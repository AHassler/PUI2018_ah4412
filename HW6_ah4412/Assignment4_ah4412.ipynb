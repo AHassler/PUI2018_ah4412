{
 "cells": [
  {
   "cell_type": "markdown",
   "metadata": {},
   "source": [
    "# Assignment 4: Tests of correlation using the scipy package with citibike data\n",
    "Andrea Hassler (ah4412)\n",
    "## Load, read in, and process data"
   ]
  },
  {
   "cell_type": "code",
   "execution_count": 1,
   "metadata": {},
   "outputs": [
    {
     "name": "stdout",
     "output_type": "stream",
     "text": [
      "Populating the interactive namespace from numpy and matplotlib\n"
     ]
    }
   ],
   "source": [
    "import pylab as pl\n",
    "import pandas as pd\n",
    "import numpy as np\n",
    "import os\n",
    "import sys\n",
    "import scipy.stats\n",
    "\n",
    "% pylab inline"
   ]
  },
  {
   "cell_type": "code",
   "execution_count": null,
   "metadata": {},
   "outputs": [],
   "source": [
    "# Download 2 months of data (one cool, one warm)\n",
    "!curl https://s3.amazonaws.com/tripdata/201502-citibike-tripdata.zip > citibike_201502.zip\n",
    "!curl https://s3.amazonaws.com/tripdata/201507-citibike-tripdata.zip > citibike_201507.zip"
   ]
  },
  {
   "cell_type": "code",
   "execution_count": null,
   "metadata": {},
   "outputs": [],
   "source": [
    "# Move to PUIdata directory\n",
    "!mv citibike_201502.zip citibike_201507.zip $PUIDATA"
   ]
  },
  {
   "cell_type": "code",
   "execution_count": null,
   "metadata": {},
   "outputs": [],
   "source": [
    "# Unzip within the PUIdata directory\n",
    "!unzip $PUIDATA/citibike_201502.zip -d $PUIDATA\n",
    "!unzip $PUIDATA/citibike_201507.zip -d $PUIDATA"
   ]
  },
  {
   "cell_type": "code",
   "execution_count": 14,
   "metadata": {},
   "outputs": [],
   "source": [
    "# Read in the files\n",
    "df1 = pd.read_csv(os.getenv(\"PUIDATA\") + '/201502-citibike-tripdata.csv')\n",
    "df2 = pd.read_csv(os.getenv(\"PUIDATA\") + '/201507-citibike-tripdata.csv')"
   ]
  },
  {
   "cell_type": "code",
   "execution_count": 15,
   "metadata": {},
   "outputs": [],
   "source": [
    "# Convert to datetime\n",
    "# Feb data formatted without seconds; July with seconds; converted subsets separately\n",
    "df1['start'] = pd.to_datetime(df1['starttime'], format='%m/%d/%Y %H:%M')\n",
    "df2['start'] = pd.to_datetime(df2['starttime'], format='%m/%d/%Y %H:%M:%S')"
   ]
  },
  {
   "cell_type": "code",
   "execution_count": 74,
   "metadata": {},
   "outputs": [
    {
     "data": {
      "text/plain": [
       "True"
      ]
     },
     "execution_count": 74,
     "metadata": {},
     "output_type": "execute_result"
    }
   ],
   "source": [
    "# Append data frames and check new length is sum of two\n",
    "df = df1.append(df2, ignore_index=True)\n",
    "(len(df1) + len(df2)) == len(df)"
   ]
  },
  {
   "cell_type": "code",
   "execution_count": 75,
   "metadata": {},
   "outputs": [
    {
     "data": {
      "text/html": [
       "<div>\n",
       "<table border=\"1\" class=\"dataframe\">\n",
       "  <thead>\n",
       "    <tr style=\"text-align: right;\">\n",
       "      <th></th>\n",
       "      <th>tripduration</th>\n",
       "      <th>start</th>\n",
       "    </tr>\n",
       "  </thead>\n",
       "  <tbody>\n",
       "    <tr>\n",
       "      <th>0</th>\n",
       "      <td>801</td>\n",
       "      <td>2015-02-01 00:00:00</td>\n",
       "    </tr>\n",
       "    <tr>\n",
       "      <th>1</th>\n",
       "      <td>379</td>\n",
       "      <td>2015-02-01 00:00:00</td>\n",
       "    </tr>\n",
       "    <tr>\n",
       "      <th>2</th>\n",
       "      <td>2474</td>\n",
       "      <td>2015-02-01 00:01:00</td>\n",
       "    </tr>\n",
       "    <tr>\n",
       "      <th>3</th>\n",
       "      <td>818</td>\n",
       "      <td>2015-02-01 00:01:00</td>\n",
       "    </tr>\n",
       "    <tr>\n",
       "      <th>4</th>\n",
       "      <td>544</td>\n",
       "      <td>2015-02-01 00:01:00</td>\n",
       "    </tr>\n",
       "  </tbody>\n",
       "</table>\n",
       "</div>"
      ],
      "text/plain": [
       "   tripduration               start\n",
       "0           801 2015-02-01 00:00:00\n",
       "1           379 2015-02-01 00:00:00\n",
       "2          2474 2015-02-01 00:01:00\n",
       "3           818 2015-02-01 00:01:00\n",
       "4           544 2015-02-01 00:01:00"
      ]
     },
     "execution_count": 75,
     "metadata": {},
     "output_type": "execute_result"
    }
   ],
   "source": [
    "# Subset to necessary columns\n",
    "df_day = df[['tripduration', 'start']]\n",
    "df_day.head()"
   ]
  },
  {
   "cell_type": "code",
   "execution_count": 76,
   "metadata": {},
   "outputs": [
    {
     "name": "stderr",
     "output_type": "stream",
     "text": [
      "/usr/local/Anaconda3-5.0.0-Linux-x86_64/envs/PUI2016_Python3/lib/python3.5/site-packages/ipykernel/__main__.py:2: SettingWithCopyWarning: \n",
      "A value is trying to be set on a copy of a slice from a DataFrame.\n",
      "Try using .loc[row_indexer,col_indexer] = value instead\n",
      "\n",
      "See the caveats in the documentation: http://pandas.pydata.org/pandas-docs/stable/indexing.html#indexing-view-versus-copy\n",
      "  from ipykernel import kernelapp as app\n"
     ]
    }
   ],
   "source": [
    "# Split data into day and night rides by hour\n",
    "df_day['day'] = (df_day['start'].dt.hour >= 6) & (df_day['start'].dt.hour < 18)"
   ]
  },
  {
   "cell_type": "code",
   "execution_count": 77,
   "metadata": {},
   "outputs": [
    {
     "name": "stderr",
     "output_type": "stream",
     "text": [
      "/usr/local/Anaconda3-5.0.0-Linux-x86_64/envs/PUI2016_Python3/lib/python3.5/site-packages/ipykernel/__main__.py:2: SettingWithCopyWarning: \n",
      "A value is trying to be set on a copy of a slice from a DataFrame.\n",
      "Try using .loc[row_indexer,col_indexer] = value instead\n",
      "\n",
      "See the caveats in the documentation: http://pandas.pydata.org/pandas-docs/stable/indexing.html#indexing-view-versus-copy\n",
      "  from ipykernel import kernelapp as app\n",
      "/usr/local/Anaconda3-5.0.0-Linux-x86_64/envs/PUI2016_Python3/lib/python3.5/site-packages/ipykernel/__main__.py:3: SettingWithCopyWarning: \n",
      "A value is trying to be set on a copy of a slice from a DataFrame.\n",
      "Try using .loc[row_indexer,col_indexer] = value instead\n",
      "\n",
      "See the caveats in the documentation: http://pandas.pydata.org/pandas-docs/stable/indexing.html#indexing-view-versus-copy\n",
      "  app.launch_new_instance()\n"
     ]
    },
    {
     "data": {
      "text/html": [
       "<div>\n",
       "<table border=\"1\" class=\"dataframe\">\n",
       "  <thead>\n",
       "    <tr style=\"text-align: right;\">\n",
       "      <th></th>\n",
       "      <th>tripduration</th>\n",
       "      <th>start</th>\n",
       "      <th>day</th>\n",
       "      <th>dayride</th>\n",
       "      <th>nightride</th>\n",
       "    </tr>\n",
       "  </thead>\n",
       "  <tbody>\n",
       "    <tr>\n",
       "      <th>0</th>\n",
       "      <td>801</td>\n",
       "      <td>2015-02-01 00:00:00</td>\n",
       "      <td>False</td>\n",
       "      <td>NaN</td>\n",
       "      <td>801.0</td>\n",
       "    </tr>\n",
       "    <tr>\n",
       "      <th>1</th>\n",
       "      <td>379</td>\n",
       "      <td>2015-02-01 00:00:00</td>\n",
       "      <td>False</td>\n",
       "      <td>NaN</td>\n",
       "      <td>379.0</td>\n",
       "    </tr>\n",
       "    <tr>\n",
       "      <th>2</th>\n",
       "      <td>2474</td>\n",
       "      <td>2015-02-01 00:01:00</td>\n",
       "      <td>False</td>\n",
       "      <td>NaN</td>\n",
       "      <td>2474.0</td>\n",
       "    </tr>\n",
       "    <tr>\n",
       "      <th>3</th>\n",
       "      <td>818</td>\n",
       "      <td>2015-02-01 00:01:00</td>\n",
       "      <td>False</td>\n",
       "      <td>NaN</td>\n",
       "      <td>818.0</td>\n",
       "    </tr>\n",
       "    <tr>\n",
       "      <th>4</th>\n",
       "      <td>544</td>\n",
       "      <td>2015-02-01 00:01:00</td>\n",
       "      <td>False</td>\n",
       "      <td>NaN</td>\n",
       "      <td>544.0</td>\n",
       "    </tr>\n",
       "  </tbody>\n",
       "</table>\n",
       "</div>"
      ],
      "text/plain": [
       "   tripduration               start    day  dayride  nightride\n",
       "0           801 2015-02-01 00:00:00  False      NaN      801.0\n",
       "1           379 2015-02-01 00:00:00  False      NaN      379.0\n",
       "2          2474 2015-02-01 00:01:00  False      NaN     2474.0\n",
       "3           818 2015-02-01 00:01:00  False      NaN      818.0\n",
       "4           544 2015-02-01 00:01:00  False      NaN      544.0"
      ]
     },
     "execution_count": 77,
     "metadata": {},
     "output_type": "execute_result"
    }
   ],
   "source": [
    "# Store tripduration for day and night rides\n",
    "df_day['dayride'] = df_day['tripduration'][(df_day['day'] == True)]\n",
    "df_day['nightride'] = df_day['tripduration'][(df_day['day'] == False)]\n",
    "df_day.head()"
   ]
  },
  {
   "cell_type": "code",
   "execution_count": 78,
   "metadata": {},
   "outputs": [
    {
     "name": "stderr",
     "output_type": "stream",
     "text": [
      "/usr/local/Anaconda3-5.0.0-Linux-x86_64/envs/PUI2016_Python3/lib/python3.5/site-packages/ipykernel/__main__.py:2: SettingWithCopyWarning: \n",
      "A value is trying to be set on a copy of a slice from a DataFrame\n",
      "\n",
      "See the caveats in the documentation: http://pandas.pydata.org/pandas-docs/stable/indexing.html#indexing-view-versus-copy\n",
      "  from ipykernel import kernelapp as app\n"
     ]
    },
    {
     "data": {
      "text/html": [
       "<div>\n",
       "<table border=\"1\" class=\"dataframe\">\n",
       "  <thead>\n",
       "    <tr style=\"text-align: right;\">\n",
       "      <th></th>\n",
       "      <th>dayride</th>\n",
       "      <th>nightride</th>\n",
       "    </tr>\n",
       "  </thead>\n",
       "  <tbody>\n",
       "    <tr>\n",
       "      <th>0</th>\n",
       "      <td>NaN</td>\n",
       "      <td>801.0</td>\n",
       "    </tr>\n",
       "    <tr>\n",
       "      <th>1</th>\n",
       "      <td>NaN</td>\n",
       "      <td>379.0</td>\n",
       "    </tr>\n",
       "    <tr>\n",
       "      <th>2</th>\n",
       "      <td>NaN</td>\n",
       "      <td>2474.0</td>\n",
       "    </tr>\n",
       "    <tr>\n",
       "      <th>3</th>\n",
       "      <td>NaN</td>\n",
       "      <td>818.0</td>\n",
       "    </tr>\n",
       "    <tr>\n",
       "      <th>4</th>\n",
       "      <td>NaN</td>\n",
       "      <td>544.0</td>\n",
       "    </tr>\n",
       "  </tbody>\n",
       "</table>\n",
       "</div>"
      ],
      "text/plain": [
       "   dayride  nightride\n",
       "0      NaN      801.0\n",
       "1      NaN      379.0\n",
       "2      NaN     2474.0\n",
       "3      NaN      818.0\n",
       "4      NaN      544.0"
      ]
     },
     "execution_count": 78,
     "metadata": {},
     "output_type": "execute_result"
    }
   ],
   "source": [
    "# Drop all irrelevant columns\n",
    "df_day.drop(df_day.columns.difference(['dayride', 'nightride']), axis = 1, inplace = True)\n",
    "df_day.head()"
   ]
  },
  {
   "cell_type": "code",
   "execution_count": 79,
   "metadata": {},
   "outputs": [
    {
     "name": "stderr",
     "output_type": "stream",
     "text": [
      "/usr/local/Anaconda3-5.0.0-Linux-x86_64/envs/PUI2016_Python3/lib/python3.5/site-packages/numpy/lib/function_base.py:3403: RuntimeWarning: Invalid value encountered in median\n",
      "  RuntimeWarning)\n"
     ]
    },
    {
     "data": {
      "text/html": [
       "<div>\n",
       "<table border=\"1\" class=\"dataframe\">\n",
       "  <thead>\n",
       "    <tr style=\"text-align: right;\">\n",
       "      <th></th>\n",
       "      <th>dayride</th>\n",
       "      <th>nightride</th>\n",
       "    </tr>\n",
       "  </thead>\n",
       "  <tbody>\n",
       "    <tr>\n",
       "      <th>count</th>\n",
       "      <td>8.628060e+05</td>\n",
       "      <td>4.198000e+05</td>\n",
       "    </tr>\n",
       "    <tr>\n",
       "      <th>mean</th>\n",
       "      <td>9.051143e+02</td>\n",
       "      <td>9.469298e+02</td>\n",
       "    </tr>\n",
       "    <tr>\n",
       "      <th>std</th>\n",
       "      <td>6.467160e+03</td>\n",
       "      <td>9.027689e+03</td>\n",
       "    </tr>\n",
       "    <tr>\n",
       "      <th>min</th>\n",
       "      <td>6.000000e+01</td>\n",
       "      <td>6.000000e+01</td>\n",
       "    </tr>\n",
       "    <tr>\n",
       "      <th>25%</th>\n",
       "      <td>NaN</td>\n",
       "      <td>NaN</td>\n",
       "    </tr>\n",
       "    <tr>\n",
       "      <th>50%</th>\n",
       "      <td>NaN</td>\n",
       "      <td>NaN</td>\n",
       "    </tr>\n",
       "    <tr>\n",
       "      <th>75%</th>\n",
       "      <td>NaN</td>\n",
       "      <td>NaN</td>\n",
       "    </tr>\n",
       "    <tr>\n",
       "      <th>max</th>\n",
       "      <td>5.174309e+06</td>\n",
       "      <td>3.611666e+06</td>\n",
       "    </tr>\n",
       "  </tbody>\n",
       "</table>\n",
       "</div>"
      ],
      "text/plain": [
       "            dayride     nightride\n",
       "count  8.628060e+05  4.198000e+05\n",
       "mean   9.051143e+02  9.469298e+02\n",
       "std    6.467160e+03  9.027689e+03\n",
       "min    6.000000e+01  6.000000e+01\n",
       "25%             NaN           NaN\n",
       "50%             NaN           NaN\n",
       "75%             NaN           NaN\n",
       "max    5.174309e+06  3.611666e+06"
      ]
     },
     "execution_count": 79,
     "metadata": {},
     "output_type": "execute_result"
    }
   ],
   "source": [
    "df_day.describe()"
   ]
  },
  {
   "cell_type": "code",
   "execution_count": 80,
   "metadata": {},
   "outputs": [
    {
     "name": "stderr",
     "output_type": "stream",
     "text": [
      "/usr/local/Anaconda3-5.0.0-Linux-x86_64/envs/PUI2016_Python3/lib/python3.5/site-packages/pandas/core/series.py:2571: SettingWithCopyWarning: \n",
      "A value is trying to be set on a copy of a slice from a DataFrame\n",
      "\n",
      "See the caveats in the documentation: http://pandas.pydata.org/pandas-docs/stable/indexing.html#indexing-view-versus-copy\n",
      "  self._update_inplace(result)\n"
     ]
    }
   ],
   "source": [
    "# Drop the NaN values\n",
    "df_day['dayride'].dropna(inplace= True)\n",
    "df_day['nightride'].dropna(inplace= True)"
   ]
  },
  {
   "cell_type": "markdown",
   "metadata": {},
   "source": [
    "## Plot distributions"
   ]
  },
  {
   "cell_type": "code",
   "execution_count": 64,
   "metadata": {},
   "outputs": [
    {
     "data": {
      "image/png": "[encoded data removed]",
      "text/plain": [
       "<matplotlib.figure.Figure at 0x7fe468eb89e8>"
      ]
     },
     "metadata": {},
     "output_type": "display_data"
    },
    {
     "data": {
      "image/png": "[encoded data removed]",
      "text/plain": [
       "<matplotlib.figure.Figure at 0x7fe468eb8390>"
      ]
     },
     "metadata": {},
     "output_type": "display_data"
    }
   ],
   "source": [
    "# Plot histograms with pandas\n",
    "bins = np.arange(0, 3500, 200)\n",
    "axD = df_day.dayride.groupby(pd.cut(df_day.dayride, bins)).agg([count_nonzero]).plot(kind='bar', legend=False)\n",
    "axD.set_title(\"Day Trips\")\n",
    "\n",
    "axN = df_day.nightride.groupby(pd.cut(df_day.nightride, bins)).agg([count_nonzero]).plot(kind='bar', legend=False)\n",
    "axN.set_title(\"Night Trips\");"
   ]
  },
  {
   "cell_type": "markdown",
   "metadata": {},
   "source": [
    "**Figure 1:** Distribution of trip duration for day rides (upper) and night rides (lower). The distributions look very similar in shape, though counts are about twice as much for day trips. This makes sense, as we expect people to take more day trips than night trips."
   ]
  },
  {
   "cell_type": "code",
   "execution_count": 81,
   "metadata": {},
   "outputs": [
    {
     "name": "stdout",
     "output_type": "stream",
     "text": [
      "              count_nonzero\n",
      "dayride                    \n",
      "(0, 200]           0.000184\n",
      "(200, 400]         0.013660\n",
      "(400, 600]         0.027264\n",
      "(600, 800]         0.027618\n",
      "(800, 1000]        0.019905\n",
      "(1000, 1200]       0.012650\n",
      "(1200, 1400]       0.007571\n",
      "(1400, 1600]       0.004558\n",
      "(1600, 1800]       0.002967\n",
      "(1800, 2000]       0.001481\n",
      "(2000, 2200]       0.000125\n",
      "(2200, 2400]       0.000424\n",
      "(2400, 2600]       0.000919\n",
      "(2600, 2800]       0.000877\n",
      "(2800, 3000]       0.000672\n",
      "(3000, 3200]       0.000412\n",
      "(3200, 3400]       0.000000\n"
     ]
    },
    {
     "data": {
      "text/plain": [
       "<matplotlib.legend.Legend at 0x7fe4650b8908>"
      ]
     },
     "execution_count": 81,
     "metadata": {},
     "output_type": "execute_result"
    },
    {
     "data": {
      "image/png": "[encoded data removed]",
      "text/plain": [
       "<matplotlib.figure.Figure at 0x7fe461359fd0>"
      ]
     },
     "metadata": {},
     "output_type": "display_data"
    }
   ],
   "source": [
    "# Plot CDFs\n",
    "csM=df_day.dayride.groupby(pd.cut(df_day.dayride, bins)).agg([count_nonzero]).cumsum()\n",
    "\n",
    "csF=df_day.nightride.groupby(pd.cut(df_day.nightride, bins)).agg([count_nonzero]).cumsum()\n",
    "\n",
    "print (np.abs(csM / csM.max()-csF / csF.max()))\n",
    "\n",
    "pl.plot(bins[:-1] + 5, csM / csM.max(), label = \"Day Rides\")\n",
    "pl.plot(bins[:-1] + 5, csF / csF.max(), label = \"Night Rides\")\n",
    "pl.plot(bins[:-1] + 5, (csM / csM.max() - csF / csF.max()), 'k-',\n",
    "        label = \"Difference\")\n",
    "pl.xlabel(\"Trip Duration (seconds)\")\n",
    "pl.ylabel(\"Normalized Cumulative Number\")\n",
    "pl.legend()"
   ]
  },
  {
   "cell_type": "markdown",
   "metadata": {},
   "source": [
    "**Figure 2:** Normalized cumulative distribution functions (CDFs) for day rides and night rides. This is the probability of a trip being less than or equal to some amount of seconds for day rides (blue) and night rides (yellow). Differences in the CDFs occur early and do not appear to be large, but this may still be enough to reject the null in the following test."
   ]
  },
  {
   "cell_type": "markdown",
   "metadata": {},
   "source": [
    "## Run comparison and correlation tests"
   ]
  },
  {
   "cell_type": "markdown",
   "metadata": {},
   "source": [
    "### K-S Test to compare two samples\n",
    "**Null:** The two sample distributions of day rides and night rides come from the same parent distribution.  \n",
    "**Alternative:** The two sample distributions of day rides and night rides do not come from the same parent distribution.  \n",
    "**Alpha level:** 0.05"
   ]
  },
  {
   "cell_type": "code",
   "execution_count": 82,
   "metadata": {},
   "outputs": [
    {
     "name": "stdout",
     "output_type": "stream",
     "text": [
      "Ks_2sampResult(statistic=0.026073328476671098, pvalue=2.9795184945172857e-167)\n"
     ]
    }
   ],
   "source": [
    "ks = scipy.stats.ks_2samp(df_day.dayride, df_day.nightride)\n",
    "print (ks)"
   ]
  },
  {
   "cell_type": "markdown",
   "metadata": {},
   "source": [
    "**Interpretation of results:** The KS statistic is $D\\approx0.026$ with a p-value of about $2.980e-167$. Since the p-value is less than our alpha level, we reject the null hypothesis that the two samples come from the same parent distribution."
   ]
  },
  {
   "cell_type": "markdown",
   "metadata": {},
   "source": [
    "### K-S Test with reduced dataset\n",
    "Same null and alternative apply but for the two smaller samples. Alpha is still 0.05."
   ]
  },
  {
   "cell_type": "code",
   "execution_count": 83,
   "metadata": {},
   "outputs": [
    {
     "data": {
      "text/html": [
       "<div>\n",
       "<table border=\"1\" class=\"dataframe\">\n",
       "  <thead>\n",
       "    <tr style=\"text-align: right;\">\n",
       "      <th></th>\n",
       "      <th>dayride</th>\n",
       "      <th>nightride</th>\n",
       "    </tr>\n",
       "  </thead>\n",
       "  <tbody>\n",
       "    <tr>\n",
       "      <th>934857</th>\n",
       "      <td>1188.0</td>\n",
       "      <td>NaN</td>\n",
       "    </tr>\n",
       "    <tr>\n",
       "      <th>577977</th>\n",
       "      <td>NaN</td>\n",
       "      <td>448.0</td>\n",
       "    </tr>\n",
       "    <tr>\n",
       "      <th>730139</th>\n",
       "      <td>NaN</td>\n",
       "      <td>828.0</td>\n",
       "    </tr>\n",
       "    <tr>\n",
       "      <th>886542</th>\n",
       "      <td>1549.0</td>\n",
       "      <td>NaN</td>\n",
       "    </tr>\n",
       "    <tr>\n",
       "      <th>602449</th>\n",
       "      <td>930.0</td>\n",
       "      <td>NaN</td>\n",
       "    </tr>\n",
       "  </tbody>\n",
       "</table>\n",
       "</div>"
      ],
      "text/plain": [
       "        dayride  nightride\n",
       "934857   1188.0        NaN\n",
       "577977      NaN      448.0\n",
       "730139      NaN      828.0\n",
       "886542   1549.0        NaN\n",
       "602449    930.0        NaN"
      ]
     },
     "execution_count": 83,
     "metadata": {},
     "output_type": "execute_result"
    }
   ],
   "source": [
    "# Reduce dataset by randomly sampling of size to 200 times smaller\n",
    "df_sm = df_day.sample(frac=0.005, replace=False, random_state=2018)\n",
    "df_sm.head()"
   ]
  },
  {
   "cell_type": "code",
   "execution_count": 84,
   "metadata": {},
   "outputs": [
    {
     "data": {
      "image/png": "[encoded data removed]",
      "text/plain": [
       "<matplotlib.figure.Figure at 0x7fe45ad332e8>"
      ]
     },
     "metadata": {},
     "output_type": "display_data"
    },
    {
     "data": {
      "image/png": "[encoded data removed]",
      "text/plain": [
       "<matplotlib.figure.Figure at 0x7fe45ad33e48>"
      ]
     },
     "metadata": {},
     "output_type": "display_data"
    }
   ],
   "source": [
    "# Histograms\n",
    "bins = np.arange(0, 3500, 200)\n",
    "axD = df_sm.dayride.groupby(pd.cut(df_sm.dayride, bins)).agg([count_nonzero]).plot(kind='bar', legend=False)\n",
    "axD.set_title(\"Day Trips\")\n",
    "\n",
    "axN = df_sm.nightride.groupby(pd.cut(df_sm.nightride, bins)).agg([count_nonzero]).plot(kind='bar', legend=False)\n",
    "axN.set_title(\"Night Trips\");"
   ]
  },
  {
   "cell_type": "markdown",
   "metadata": {},
   "source": [
    "**Figure 3:** Distribution of trip durations of day trips (upper) and night trips (lower). The distributions do not appear quite as similar as for the full sample. This makes sense since the sample is much smaller. Once again, there are still about twice as many day trips than night trips."
   ]
  },
  {
   "cell_type": "code",
   "execution_count": 85,
   "metadata": {},
   "outputs": [
    {
     "name": "stdout",
     "output_type": "stream",
     "text": [
      "              count_nonzero\n",
      "dayride                    \n",
      "(0, 200]           0.006268\n",
      "(200, 400]         0.013977\n",
      "(400, 600]         0.032776\n",
      "(600, 800]         0.038465\n",
      "(800, 1000]        0.030864\n",
      "(1000, 1200]       0.028163\n",
      "(1200, 1400]       0.009990\n",
      "(1400, 1600]       0.003223\n",
      "(1600, 1800]       0.000701\n",
      "(1800, 2000]       0.002126\n",
      "(2000, 2200]       0.004620\n",
      "(2200, 2400]       0.001195\n",
      "(2400, 2600]       0.003419\n",
      "(2600, 2800]       0.003004\n",
      "(2800, 3000]       0.000906\n",
      "(3000, 3200]       0.000466\n",
      "(3200, 3400]       0.000000\n"
     ]
    },
    {
     "data": {
      "text/plain": [
       "<matplotlib.legend.Legend at 0x7fe46a974e48>"
      ]
     },
     "execution_count": 85,
     "metadata": {},
     "output_type": "execute_result"
    },
    {
     "data": {
      "image/png": "[encoded data removed]",
      "text/plain": [
       "<matplotlib.figure.Figure at 0x7fe46578bdd8>"
      ]
     },
     "metadata": {},
     "output_type": "display_data"
    }
   ],
   "source": [
    "# Plot CDFs\n",
    "csM=df_sm.dayride.groupby(pd.cut(df_sm.dayride, bins)).agg([count_nonzero]).cumsum()\n",
    "\n",
    "csF=df_sm.nightride.groupby(pd.cut(df_sm.nightride, bins)).agg([count_nonzero]).cumsum()\n",
    "\n",
    "print (np.abs(csM / csM.max()-csF / csF.max()))\n",
    "\n",
    "pl.plot(bins[:-1] + 5, csM / csM.max(), label = \"Day Rides\")\n",
    "pl.plot(bins[:-1] + 5, csF / csF.max(), label = \"Night Rides\")\n",
    "pl.plot(bins[:-1] + 5, (csM / csM.max() - csF / csF.max()), 'k-',\n",
    "        label = \"Difference\")\n",
    "pl.xlabel(\"Trip Duration (seconds)\")\n",
    "pl.ylabel(\"Normalized Cumulative Number\")\n",
    "pl.legend()"
   ]
  },
  {
   "cell_type": "markdown",
   "metadata": {},
   "source": [
    "**Figure 4:** Normalized cumulative distribution functions (CDFs) for day rides and night rides for the smaller samples. This is the probability of a trip being less than or equal to some amount of seconds for day rides (blue) and night rides (yellow). Differences in the CDFs occur early and appear larger than before, which again makes sense since the samples are smaller and may be more variable than the larger samples."
   ]
  },
  {
   "cell_type": "code",
   "execution_count": null,
   "metadata": {},
   "outputs": [],
   "source": [
    "# Conduct test on reduced sample\n",
    "ks_sm = scipy.stats.ks_2samp(df_sm.dayride, df_sm.nightride)\n",
    "print(ks_sm)"
   ]
  },
  {
   "cell_type": "markdown",
   "metadata": {},
   "source": [
    "**Interpretation of results:** The KS statistic is $D \\approx 0.341$ with a p-value so small that Python rounds it to zero. Once again, at alpha level 0.05, we reject the null that the two distributions come from the same parent distribution."
   ]
  },
  {
   "cell_type": "markdown",
   "metadata": {},
   "source": [
    "## Pearson's Correlation\n",
    "Our data samples cannot be used for this test; they are both unpaired and not the same length. In the original data frame, each observation (trip) only has one trip duration and can only be either day or night. For correlation, day and night need to be paired somehow. Since the data only covers 2 months, the best pairing is probably achieved by averaging over days. This will also result in data columns of the same length. This test assumes that both samples are normally distributed.  \n",
    "\n",
    "  \n",
    "**Null:** The sample of average day trip durations and the sample of average night trip durations are non-correlated.  \n",
    "**Alternative:** The sample of average day trip durations and the sample of average night trip durations are correlated.  \n",
    "**Alpha level:** 0.05"
   ]
  },
  {
   "cell_type": "code",
   "execution_count": 87,
   "metadata": {},
   "outputs": [
    {
     "data": {
      "text/html": [
       "<div>\n",
       "<table border=\"1\" class=\"dataframe\">\n",
       "  <thead>\n",
       "    <tr style=\"text-align: right;\">\n",
       "      <th></th>\n",
       "      <th>tripduration</th>\n",
       "      <th>start</th>\n",
       "    </tr>\n",
       "  </thead>\n",
       "  <tbody>\n",
       "    <tr>\n",
       "      <th>0</th>\n",
       "      <td>801</td>\n",
       "      <td>2015-02-01 00:00:00</td>\n",
       "    </tr>\n",
       "    <tr>\n",
       "      <th>1</th>\n",
       "      <td>379</td>\n",
       "      <td>2015-02-01 00:00:00</td>\n",
       "    </tr>\n",
       "    <tr>\n",
       "      <th>2</th>\n",
       "      <td>2474</td>\n",
       "      <td>2015-02-01 00:01:00</td>\n",
       "    </tr>\n",
       "    <tr>\n",
       "      <th>3</th>\n",
       "      <td>818</td>\n",
       "      <td>2015-02-01 00:01:00</td>\n",
       "    </tr>\n",
       "    <tr>\n",
       "      <th>4</th>\n",
       "      <td>544</td>\n",
       "      <td>2015-02-01 00:01:00</td>\n",
       "    </tr>\n",
       "  </tbody>\n",
       "</table>\n",
       "</div>"
      ],
      "text/plain": [
       "   tripduration               start\n",
       "0           801 2015-02-01 00:00:00\n",
       "1           379 2015-02-01 00:00:00\n",
       "2          2474 2015-02-01 00:01:00\n",
       "3           818 2015-02-01 00:01:00\n",
       "4           544 2015-02-01 00:01:00"
      ]
     },
     "execution_count": 87,
     "metadata": {},
     "output_type": "execute_result"
    }
   ],
   "source": [
    "# Subset original data frame\n",
    "df.drop(df.columns.difference(['tripduration', 'start']), axis = 1, inplace = True)\n",
    "df.head()"
   ]
  },
  {
   "cell_type": "code",
   "execution_count": 88,
   "metadata": {},
   "outputs": [
    {
     "data": {
      "text/html": [
       "<div>\n",
       "<table border=\"1\" class=\"dataframe\">\n",
       "  <thead>\n",
       "    <tr style=\"text-align: right;\">\n",
       "      <th></th>\n",
       "      <th>tripduration</th>\n",
       "      <th>start</th>\n",
       "      <th>day</th>\n",
       "    </tr>\n",
       "  </thead>\n",
       "  <tbody>\n",
       "    <tr>\n",
       "      <th>0</th>\n",
       "      <td>801</td>\n",
       "      <td>2015-02-01 00:00:00</td>\n",
       "      <td>False</td>\n",
       "    </tr>\n",
       "    <tr>\n",
       "      <th>1</th>\n",
       "      <td>379</td>\n",
       "      <td>2015-02-01 00:00:00</td>\n",
       "      <td>False</td>\n",
       "    </tr>\n",
       "    <tr>\n",
       "      <th>2</th>\n",
       "      <td>2474</td>\n",
       "      <td>2015-02-01 00:01:00</td>\n",
       "      <td>False</td>\n",
       "    </tr>\n",
       "    <tr>\n",
       "      <th>3</th>\n",
       "      <td>818</td>\n",
       "      <td>2015-02-01 00:01:00</td>\n",
       "      <td>False</td>\n",
       "    </tr>\n",
       "    <tr>\n",
       "      <th>4</th>\n",
       "      <td>544</td>\n",
       "      <td>2015-02-01 00:01:00</td>\n",
       "      <td>False</td>\n",
       "    </tr>\n",
       "  </tbody>\n",
       "</table>\n",
       "</div>"
      ],
      "text/plain": [
       "   tripduration               start    day\n",
       "0           801 2015-02-01 00:00:00  False\n",
       "1           379 2015-02-01 00:00:00  False\n",
       "2          2474 2015-02-01 00:01:00  False\n",
       "3           818 2015-02-01 00:01:00  False\n",
       "4           544 2015-02-01 00:01:00  False"
      ]
     },
     "execution_count": 88,
     "metadata": {},
     "output_type": "execute_result"
    }
   ],
   "source": [
    "# Split data into day and night rides by hour\n",
    "df['day'] = (df['start'].dt.hour >= 6) & (df['start'].dt.hour < 18)\n",
    "df.head()"
   ]
  },
  {
   "cell_type": "code",
   "execution_count": 89,
   "metadata": {},
   "outputs": [
    {
     "data": {
      "text/html": [
       "<div>\n",
       "<table border=\"1\" class=\"dataframe\">\n",
       "  <thead>\n",
       "    <tr style=\"text-align: right;\">\n",
       "      <th></th>\n",
       "      <th>tripduration</th>\n",
       "      <th>start</th>\n",
       "      <th>day</th>\n",
       "      <th>dayride</th>\n",
       "      <th>nightride</th>\n",
       "    </tr>\n",
       "  </thead>\n",
       "  <tbody>\n",
       "    <tr>\n",
       "      <th>0</th>\n",
       "      <td>801</td>\n",
       "      <td>2015-02-01 00:00:00</td>\n",
       "      <td>False</td>\n",
       "      <td>NaN</td>\n",
       "      <td>801.0</td>\n",
       "    </tr>\n",
       "    <tr>\n",
       "      <th>1</th>\n",
       "      <td>379</td>\n",
       "      <td>2015-02-01 00:00:00</td>\n",
       "      <td>False</td>\n",
       "      <td>NaN</td>\n",
       "      <td>379.0</td>\n",
       "    </tr>\n",
       "    <tr>\n",
       "      <th>2</th>\n",
       "      <td>2474</td>\n",
       "      <td>2015-02-01 00:01:00</td>\n",
       "      <td>False</td>\n",
       "      <td>NaN</td>\n",
       "      <td>2474.0</td>\n",
       "    </tr>\n",
       "    <tr>\n",
       "      <th>3</th>\n",
       "      <td>818</td>\n",
       "      <td>2015-02-01 00:01:00</td>\n",
       "      <td>False</td>\n",
       "      <td>NaN</td>\n",
       "      <td>818.0</td>\n",
       "    </tr>\n",
       "    <tr>\n",
       "      <th>4</th>\n",
       "      <td>544</td>\n",
       "      <td>2015-02-01 00:01:00</td>\n",
       "      <td>False</td>\n",
       "      <td>NaN</td>\n",
       "      <td>544.0</td>\n",
       "    </tr>\n",
       "  </tbody>\n",
       "</table>\n",
       "</div>"
      ],
      "text/plain": [
       "   tripduration               start    day  dayride  nightride\n",
       "0           801 2015-02-01 00:00:00  False      NaN      801.0\n",
       "1           379 2015-02-01 00:00:00  False      NaN      379.0\n",
       "2          2474 2015-02-01 00:01:00  False      NaN     2474.0\n",
       "3           818 2015-02-01 00:01:00  False      NaN      818.0\n",
       "4           544 2015-02-01 00:01:00  False      NaN      544.0"
      ]
     },
     "execution_count": 89,
     "metadata": {},
     "output_type": "execute_result"
    }
   ],
   "source": [
    "# Store tripduration for day and night rides\n",
    "df['dayride'] = df['tripduration'][(df['day'] == True)]\n",
    "df['nightride'] = df['tripduration'][(df['day'] == False)]\n",
    "df.head()"
   ]
  },
  {
   "cell_type": "code",
   "execution_count": 90,
   "metadata": {},
   "outputs": [
    {
     "data": {
      "text/html": [
       "<div>\n",
       "<table border=\"1\" class=\"dataframe\">\n",
       "  <thead>\n",
       "    <tr style=\"text-align: right;\">\n",
       "      <th></th>\n",
       "      <th>start</th>\n",
       "      <th>dayride</th>\n",
       "      <th>nightride</th>\n",
       "    </tr>\n",
       "  </thead>\n",
       "  <tbody>\n",
       "    <tr>\n",
       "      <th>0</th>\n",
       "      <td>2015-02-01</td>\n",
       "      <td>NaN</td>\n",
       "      <td>801.0</td>\n",
       "    </tr>\n",
       "    <tr>\n",
       "      <th>1</th>\n",
       "      <td>2015-02-01</td>\n",
       "      <td>NaN</td>\n",
       "      <td>379.0</td>\n",
       "    </tr>\n",
       "    <tr>\n",
       "      <th>2</th>\n",
       "      <td>2015-02-01</td>\n",
       "      <td>NaN</td>\n",
       "      <td>2474.0</td>\n",
       "    </tr>\n",
       "    <tr>\n",
       "      <th>3</th>\n",
       "      <td>2015-02-01</td>\n",
       "      <td>NaN</td>\n",
       "      <td>818.0</td>\n",
       "    </tr>\n",
       "    <tr>\n",
       "      <th>4</th>\n",
       "      <td>2015-02-01</td>\n",
       "      <td>NaN</td>\n",
       "      <td>544.0</td>\n",
       "    </tr>\n",
       "  </tbody>\n",
       "</table>\n",
       "</div>"
      ],
      "text/plain": [
       "        start  dayride  nightride\n",
       "0  2015-02-01      NaN      801.0\n",
       "1  2015-02-01      NaN      379.0\n",
       "2  2015-02-01      NaN     2474.0\n",
       "3  2015-02-01      NaN      818.0\n",
       "4  2015-02-01      NaN      544.0"
      ]
     },
     "execution_count": 90,
     "metadata": {},
     "output_type": "execute_result"
    }
   ],
   "source": [
    "# Drop unneeded columns and change start to date only\n",
    "df.drop(df.columns.difference(['start', 'dayride', 'nightride']), axis = 1, inplace = True)\n",
    "df['start'] = df.start.dt.date\n",
    "df.head()"
   ]
  },
  {
   "cell_type": "code",
   "execution_count": 91,
   "metadata": {},
   "outputs": [
    {
     "data": {
      "text/html": [
       "<div>\n",
       "<table border=\"1\" class=\"dataframe\">\n",
       "  <thead>\n",
       "    <tr style=\"text-align: right;\">\n",
       "      <th></th>\n",
       "      <th>dayride</th>\n",
       "      <th>nightride</th>\n",
       "    </tr>\n",
       "    <tr>\n",
       "      <th>start</th>\n",
       "      <th></th>\n",
       "      <th></th>\n",
       "    </tr>\n",
       "  </thead>\n",
       "  <tbody>\n",
       "    <tr>\n",
       "      <th>2015-02-01</th>\n",
       "      <td>644.731241</td>\n",
       "      <td>615.891156</td>\n",
       "    </tr>\n",
       "    <tr>\n",
       "      <th>2015-02-02</th>\n",
       "      <td>888.974041</td>\n",
       "      <td>970.169284</td>\n",
       "    </tr>\n",
       "    <tr>\n",
       "      <th>2015-02-03</th>\n",
       "      <td>782.631410</td>\n",
       "      <td>737.805998</td>\n",
       "    </tr>\n",
       "    <tr>\n",
       "      <th>2015-02-04</th>\n",
       "      <td>698.579824</td>\n",
       "      <td>695.484154</td>\n",
       "    </tr>\n",
       "    <tr>\n",
       "      <th>2015-02-05</th>\n",
       "      <td>626.515152</td>\n",
       "      <td>614.761359</td>\n",
       "    </tr>\n",
       "  </tbody>\n",
       "</table>\n",
       "</div>"
      ],
      "text/plain": [
       "               dayride   nightride\n",
       "start                             \n",
       "2015-02-01  644.731241  615.891156\n",
       "2015-02-02  888.974041  970.169284\n",
       "2015-02-03  782.631410  737.805998\n",
       "2015-02-04  698.579824  695.484154\n",
       "2015-02-05  626.515152  614.761359"
      ]
     },
     "execution_count": 91,
     "metadata": {},
     "output_type": "execute_result"
    }
   ],
   "source": [
    "# Group by date of start and take mean of dayride and nightride\n",
    "df = df.groupby(['start']).mean()\n",
    "df.head()"
   ]
  },
  {
   "cell_type": "code",
   "execution_count": 92,
   "metadata": {},
   "outputs": [
    {
     "data": {
      "text/plain": [
       "(0.88812104797625591, 6.7275173414156718e-21)"
      ]
     },
     "execution_count": 92,
     "metadata": {},
     "output_type": "execute_result"
    }
   ],
   "source": [
    "# Conduct the test\n",
    "scipy.stats.pearsonr(df.dayride, df.nightride)"
   ]
  },
  {
   "cell_type": "markdown",
   "metadata": {},
   "source": [
    "**Interpretation of results:** The Pearson correlation coefficient is $r \\approx 0.888$ with a p-value of $\\approx 6.728e-21$. The correlation coefficient implies a strong positive relationship between the trip durations of day and night rides. At alpha level 0.05, we reject the null that the two samples are non-correlated."
   ]
  },
  {
   "cell_type": "markdown",
   "metadata": {},
   "source": [
    "### Spearman's Correlation\n",
    "Unlike Pearson's Correlation, this test does not rely on the parametric assumption that both samples are normally distributed.\n",
    "  \n",
    "**Null:** The sample of average day trip durations is not monotonically related to the sample of average night trip durations.  \n",
    "**Alternative:** The sample of average day trip durations is monotonically related the sample of average night trip durations.  \n",
    "**Alpha level:** 0.05"
   ]
  },
  {
   "cell_type": "code",
   "execution_count": 93,
   "metadata": {},
   "outputs": [
    {
     "data": {
      "text/plain": [
       "SpearmanrResult(correlation=0.89818819403857386, pvalue=5.2710883266570404e-22)"
      ]
     },
     "execution_count": 93,
     "metadata": {},
     "output_type": "execute_result"
    }
   ],
   "source": [
    "# Conduct the test\n",
    "scipy.stats.spearmanr(df.dayride, df.nightride)"
   ]
  },
  {
   "cell_type": "markdown",
   "metadata": {},
   "source": [
    "**Interpretation of results:** The Pearson correlation coefficient is $r \\approx 0.898$ with a p-value of $\\approx 5.271e-22$. The correlation coefficient implies a strong positive, monotonic relationship between the trip durations of day and night rides. At alpha level 0.05, we reject the null that the two samples are not monotonically related. This test agrees with the results of the Pearson correlation."
   ]
  }
 ],
 "metadata": {
  "kernelspec": {
   "display_name": "PUI2016_Python3",
   "language": "python",
   "name": "pui2016_python3"
  },
  "language_info": {
   "codemirror_mode": {
    "name": "ipython",
    "version": 3
   },
   "file_extension": ".py",
   "mimetype": "text/x-python",
   "name": "python",
   "nbconvert_exporter": "python",
   "pygments_lexer": "ipython3",
   "version": "3.5.4"
  }
 },
 "nbformat": 4,
 "nbformat_minor": 2
}
