{
 "cells": [
  {
   "cell_type": "markdown",
   "metadata": {},
   "source": [
    "# Assignment 3: Hypothesis Testing\n",
    "*Andrea Hassler (ah4412)*"
   ]
  },
  {
   "cell_type": "code",
   "execution_count": 1,
   "metadata": {},
   "outputs": [],
   "source": [
    "# python 2 and 3 compatibility\n",
    "from __future__ import print_function\n",
    "\n",
    "# import relevant modules\n",
    "import pylab as pl\n",
    "import pandas as pd\n",
    "import numpy as np\n",
    "import scipy.stats as spst"
   ]
  },
  {
   "cell_type": "markdown",
   "metadata": {},
   "source": [
    "## Hypotheses\n",
    "### State the Null and Alternative Hypotheses\n",
    "**NULL:** The mean duration of the new bus route is greater than or the same as the mean duration of the original bus route.  \n",
    "**ALTERNATIVE:** The mean duration of the new bus route is less than the mean duration of the original bus route.\n",
    "\n",
    "### State the Null and Alternative Hypotheses as Formulas\n",
    "$H_0$: $\\mu_{population} - \\mu_{sample} \\leq 0$  \n",
    "$H_a$: $\\mu_{population} - \\mu_{sample} > 0$  \n",
    "\n",
    "## Significance Threshold and Test Choice\n",
    "### Set alpha level\n",
    "The significance threshold is set to $\\alpha=0.05$.\n",
    "\n",
    "### Test Choice\n",
    "We are comparing a sample to a population with known mean and standard deviation, and we assume the population is Gaussian, so we use a one-tailed, one-sample Z-test.\n",
    "\n",
    "## Find $p$-value\n",
    "Here, we are finding the probability $p$ that we would obtain our test statistic Z (or one more extreme than Z) given that the null hypothesis were true. In the context of this problem, we are finding the probability of finding a positive difference between the two means that matches or is more extreme than our difference, given that the difference is really 0 or negative.\n",
    "\n",
    "### Load the Data"
   ]
  },
  {
   "cell_type": "code",
   "execution_count": 2,
   "metadata": {},
   "outputs": [],
   "source": [
    "# download dataset\n",
    "times = pd.read_csv(\"https://raw.githubusercontent.com/fedhere/PUI2018_fb55/master/Lab4_fb55/times.txt\", \n",
    "                    header=None)"
   ]
  },
  {
   "cell_type": "code",
   "execution_count": 3,
   "metadata": {},
   "outputs": [],
   "source": [
    "# save population parameters as floats\n",
    "pop_mean = 36.\n",
    "pop_sd = 6."
   ]
  },
  {
   "cell_type": "markdown",
   "metadata": {},
   "source": [
    "### Calculate Sample Statistics"
   ]
  },
  {
   "cell_type": "code",
   "execution_count": 4,
   "metadata": {},
   "outputs": [],
   "source": [
    "# find sample statistics\n",
    "samp_mean = times.values.mean()\n",
    "samp_sd = times.values.std()\n",
    "samp_size = float(len(times))"
   ]
  },
  {
   "cell_type": "code",
   "execution_count": 5,
   "metadata": {},
   "outputs": [
    {
     "name": "stdout",
     "output_type": "stream",
     "text": [
      "Population Parameters\n",
      "Mean: 36.0 minutes\n",
      "Standard Deviation: 6.0 minutes\n",
      "\n",
      "Sample Statistics\n",
      "Mean: 34.5 minutes\n",
      "Standard Deviation: 7.1 minutes\n",
      "Sample Size: 100 trips\n"
     ]
    }
   ],
   "source": [
    "# print all info so far\n",
    "print(\"Population Parameters\\nMean: {0:.1f} minutes\\n\\\n",
    "Standard Deviation: {1:.1f} minutes\\n\\n\\\n",
    "Sample Statistics\\n\\\n",
    "Mean: {2:.1f} minutes\\n\\\n",
    "Standard Deviation: {3:.1f} minutes\\n\\\n",
    "Sample Size: {4:.0f} trips\"\\\n",
    ".format(pop_mean, pop_sd, samp_mean, samp_sd, samp_size))"
   ]
  },
  {
   "cell_type": "markdown",
   "metadata": {},
   "source": [
    "### Compute Z-statistic"
   ]
  },
  {
   "cell_type": "code",
   "execution_count": 6,
   "metadata": {},
   "outputs": [],
   "source": [
    "# compute Z\n",
    "Z = (pop_mean - samp_mean) / (pop_sd/np.sqrt(samp_size))"
   ]
  },
  {
   "cell_type": "code",
   "execution_count": 7,
   "metadata": {},
   "outputs": [
    {
     "name": "stdout",
     "output_type": "stream",
     "text": [
      "The Z-statistic is 2.56\n",
      "The computed p-value is 0.01\n"
     ]
    }
   ],
   "source": [
    "# compute p-value\n",
    "p_val = spst.norm.sf(abs(Z))\n",
    "print(\"The Z-statistic is {0:.2f}\\n\\\n",
    "The computed p-value is {1:.2f}\".format(Z, p_val))"
   ]
  },
  {
   "cell_type": "markdown",
   "metadata": {},
   "source": [
    "## Decision\n",
    "Since this is a one-tailed test, the rejection region remains on one side of the distribution and the alpha value is not split between both tails. Since the $p$-value is less than $\\alpha$, **we reject the null hypothesis**. Equivalently, the Z-statistic is beyond 2 standard deviations of the mean, or about 97.5% of the distribution (one-tailed), which supports rejecting the null."
   ]
  }
 ],
 "metadata": {
  "kernelspec": {
   "display_name": "PUI2016_Python3",
   "language": "python",
   "name": "pui2016_python3"
  },
  "language_info": {
   "codemirror_mode": {
    "name": "ipython",
    "version": 3
   },
   "file_extension": ".py",
   "mimetype": "text/x-python",
   "name": "python",
   "nbconvert_exporter": "python",
   "pygments_lexer": "ipython3",
   "version": "3.5.4"
  }
 },
 "nbformat": 4,
 "nbformat_minor": 2
}
