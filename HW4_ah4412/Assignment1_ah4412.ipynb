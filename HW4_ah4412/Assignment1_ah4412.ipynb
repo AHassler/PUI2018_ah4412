{
 "cells": [
  {
   "cell_type": "markdown",
   "metadata": {},
   "source": [
    "# HW4: Assignment 1\n",
    "### Andrea Hassler\n",
    "October 3, 2018"
   ]
  },
  {
   "cell_type": "code",
   "execution_count": 1,
   "metadata": {},
   "outputs": [
    {
     "name": "stdout",
     "output_type": "stream",
     "text": [
      "Populating the interactive namespace from numpy and matplotlib\n"
     ]
    },
    {
     "name": "stderr",
     "output_type": "stream",
     "text": [
      "/usr/local/Anaconda3-5.0.0-Linux-x86_64/envs/PUI2016_Python3/lib/python3.5/site-packages/IPython/html.py:14: ShimWarning: The `IPython.html` package has been deprecated. You should import from `notebook` instead. `IPython.html.widgets` has moved to `ipywidgets`.\n",
      "  \"`IPython.html.widgets` has moved to `ipywidgets`.\", ShimWarning)\n"
     ]
    }
   ],
   "source": [
    "# python 2 and 3 compatibility\n",
    "from __future__ import print_function\n",
    "__author__= 'ah4412'\n",
    "\n",
    "# import relevant modules\n",
    "import pylab as pl\n",
    "import numpy as np\n",
    "import seaborn\n",
    "from scipy.optimize import curve_fit, minimize\n",
    "\n",
    "# render plots within the notebook\n",
    "%pylab inline"
   ]
  },
  {
   "cell_type": "markdown",
   "metadata": {},
   "source": [
    "## Choose distributions and set parameters"
   ]
  },
  {
   "cell_type": "code",
   "execution_count": 16,
   "metadata": {},
   "outputs": [],
   "source": [
    "# create empty dictionary to store results\n",
    "dist = {'gaussian': {'samples':{}, 'means':{}},\n",
    "        'poisson':{'samples':{}, 'means':{}},\n",
    "        'binomial':{'samples':{}, 'means':{}},\n",
    "        'chisquare':{'samples':{}, 'means':{}},\n",
    "        'uniform':{'samples':{}, 'means':{}}\n",
    "       }\n",
    "\n",
    "# set mean to be used for all distributions\n",
    "set_mean = 10\n",
    "\n",
    "# other required parameters for distributions:\n",
    "# gaussian\n",
    "sig = 2\n",
    "# poisson\n",
    "lam = set_mean\n",
    "# binomial\n",
    "# mean = t*p = 10\n",
    "t = 20\n",
    "p = 0.5\n",
    "# chisquare\n",
    "df = set_mean\n",
    "# uniform\n",
    "# mean = 0.5*(a + b) = 10\n",
    "a = 5\n",
    "b = 15\n",
    "\n",
    "# set 100 sample sizes between 10 to 2000\n",
    "random.seed(12345)\n",
    "n_val = range(11, 2000)\n",
    "n_val = np.random.choice(n_val, (100, 1), replace=False)"
   ]
  },
  {
   "cell_type": "markdown",
   "metadata": {},
   "source": [
    "## Fill dictionary with samples and compute sample means"
   ]
  },
  {
   "cell_type": "code",
   "execution_count": 17,
   "metadata": {},
   "outputs": [],
   "source": [
    "# generate and store samples and sample means\n",
    "s_mean = np.empty([100, 1])\n",
    "for i, n in enumerate(n_val):\n",
    "    dist['gaussian']['samples']['n_%d'%(n)] = np.random.normal(set_mean, sig, size = n)\n",
    "    s_mean[i] = dist['gaussian']['samples']['n_%d'%(n)].mean()\n",
    "dist['gaussian']['means'] = np.concatenate([n_val, s_mean], axis = 1)"
   ]
  },
  {
   "cell_type": "code",
   "execution_count": 18,
   "metadata": {},
   "outputs": [
    {
     "data": {
      "text/plain": [
       "[<matplotlib.lines.Line2D at 0x7febdc5c2320>]"
      ]
     },
     "execution_count": 18,
     "metadata": {},
     "output_type": "execute_result"
    },
    {
     "name": "stderr",
     "output_type": "stream",
     "text": [
      "/usr/local/Anaconda3-5.0.0-Linux-x86_64/envs/PUI2016_Python3/lib/python3.5/site-packages/matplotlib/font_manager.py:1316: UserWarning: findfont: Font family ['sans-serif'] not found. Falling back to DejaVu Sans\n",
      "  (prop.get_family(), self.defaultFamily[fontext]))\n"
     ]
    },
    {
     "data": {
      "image/png": "[encoded data removed]",
      "text/plain": [
       "<matplotlib.figure.Figure at 0x7febdc20a048>"
      ]
     },
     "metadata": {},
     "output_type": "display_data"
    }
   ],
   "source": [
    "# create plots\n",
    "gaus_plot = pl.figure(figsize=(10,6)).add_subplot(111)\n",
    "gaus_plot.plot(dist['gaussian']['means'][:,0], dist['gaussian']['means'][:,1], 'o')\n",
    "gaus_plot.set_xlabel('sample size', fontsize=18)\n",
    "gaus_plot.set_ylabel('sample mean', fontsize=18)\n",
    "gaus_plot.set_title('Gaussian', fontsize=18)\n",
    "gaus_plot.plot([min(n_val), max(n_val)], [set_mean, set_mean], 'k')"
   ]
  },
  {
   "cell_type": "code",
   "execution_count": 8,
   "metadata": {},
   "outputs": [
    {
     "ename": "TypeError",
     "evalue": "chisquare() got multiple values for keyword argument 'size'",
     "output_type": "error",
     "traceback": [
      "\u001b[0;31m---------------------------------------------------------------------------\u001b[0m",
      "\u001b[0;31mTypeError\u001b[0m                                 Traceback (most recent call last)",
      "\u001b[0;32m<ipython-input-8-63e83bc4b439>\u001b[0m in \u001b[0;36m<module>\u001b[0;34m()\u001b[0m\n\u001b[1;32m      6\u001b[0m     \u001b[0mdist\u001b[0m\u001b[0;34m[\u001b[0m\u001b[0;34m'binomial'\u001b[0m\u001b[0;34m]\u001b[0m\u001b[0;34m[\u001b[0m\u001b[0;34m'%d'\u001b[0m\u001b[0;34m%\u001b[0m\u001b[0mn\u001b[0m\u001b[0;34m]\u001b[0m \u001b[0;34m=\u001b[0m \u001b[0mnp\u001b[0m\u001b[0;34m.\u001b[0m\u001b[0mrandom\u001b[0m\u001b[0;34m.\u001b[0m\u001b[0mbinomial\u001b[0m\u001b[0;34m(\u001b[0m\u001b[0mt\u001b[0m\u001b[0;34m,\u001b[0m \u001b[0mp\u001b[0m\u001b[0;34m,\u001b[0m \u001b[0msize\u001b[0m \u001b[0;34m=\u001b[0m \u001b[0mn\u001b[0m\u001b[0;34m)\u001b[0m\u001b[0;34m\u001b[0m\u001b[0m\n\u001b[1;32m      7\u001b[0m \u001b[0;32mfor\u001b[0m \u001b[0mn\u001b[0m \u001b[0;32min\u001b[0m \u001b[0mn_val\u001b[0m\u001b[0;34m:\u001b[0m\u001b[0;34m\u001b[0m\u001b[0m\n\u001b[0;32m----> 8\u001b[0;31m     \u001b[0mdist\u001b[0m\u001b[0;34m[\u001b[0m\u001b[0;34m'chisquare'\u001b[0m\u001b[0;34m]\u001b[0m\u001b[0;34m[\u001b[0m\u001b[0;34m'%d'\u001b[0m\u001b[0;34m%\u001b[0m\u001b[0mn\u001b[0m\u001b[0;34m]\u001b[0m \u001b[0;34m=\u001b[0m \u001b[0mnp\u001b[0m\u001b[0;34m.\u001b[0m\u001b[0mrandom\u001b[0m\u001b[0;34m.\u001b[0m\u001b[0mchisquare\u001b[0m\u001b[0;34m(\u001b[0m\u001b[0mdf\u001b[0m\u001b[0;34m,\u001b[0m \u001b[0msig\u001b[0m\u001b[0;34m,\u001b[0m \u001b[0msize\u001b[0m \u001b[0;34m=\u001b[0m \u001b[0mn\u001b[0m\u001b[0;34m)\u001b[0m\u001b[0;34m\u001b[0m\u001b[0m\n\u001b[0m\u001b[1;32m      9\u001b[0m \u001b[0;32mfor\u001b[0m \u001b[0mn\u001b[0m \u001b[0;32min\u001b[0m \u001b[0mn_val\u001b[0m\u001b[0;34m:\u001b[0m\u001b[0;34m\u001b[0m\u001b[0m\n\u001b[1;32m     10\u001b[0m     \u001b[0mdist\u001b[0m\u001b[0;34m[\u001b[0m\u001b[0;34m'uniform'\u001b[0m\u001b[0;34m]\u001b[0m\u001b[0;34m[\u001b[0m\u001b[0mn\u001b[0m\u001b[0;34m]\u001b[0m \u001b[0;34m=\u001b[0m \u001b[0mnp\u001b[0m\u001b[0;34m.\u001b[0m\u001b[0mrandom\u001b[0m\u001b[0;34m.\u001b[0m\u001b[0muniform\u001b[0m\u001b[0;34m(\u001b[0m\u001b[0mset_mean\u001b[0m\u001b[0;34m,\u001b[0m \u001b[0msig\u001b[0m\u001b[0;34m,\u001b[0m \u001b[0msize\u001b[0m \u001b[0;34m=\u001b[0m \u001b[0mn\u001b[0m\u001b[0;34m)\u001b[0m\u001b[0;34m\u001b[0m\u001b[0m\n",
      "\u001b[0;32mmtrand.pyx\u001b[0m in \u001b[0;36mmtrand.RandomState.chisquare (numpy/random/mtrand/mtrand.c:17944)\u001b[0;34m()\u001b[0m\n",
      "\u001b[0;31mTypeError\u001b[0m: chisquare() got multiple values for keyword argument 'size'"
     ]
    }
   ],
   "source": [
    "for n in n_val:\n",
    "    dist['poisson']['%d'%n] = np.random.poisson(lam, size = n)\n",
    "for n in n_val:\n",
    "    dist['binomial']['%d'%n] = np.random.binomial(t, p, size = n)\n",
    "for n in n_val:\n",
    "    dist['chisquare']['%d'%n] = np.random.chisquare(df, sig, size = n)\n",
    "for n in n_val:\n",
    "    dist['uniform'][n] = np.random.uniform(set_mean, sig, size = n)"
   ]
  },
  {
   "cell_type": "code",
   "execution_count": 4,
   "metadata": {},
   "outputs": [],
   "source": [
    "?np.random.normal"
   ]
  },
  {
   "cell_type": "code",
   "execution_count": 10,
   "metadata": {},
   "outputs": [
    {
     "data": {
      "text/plain": [
       "dict_keys(['uniform', 'chisquare', 'binomial', 'poisson', 'gaussian'])"
      ]
     },
     "execution_count": 10,
     "metadata": {},
     "output_type": "execute_result"
    }
   ],
   "source": [
    "dist.keys()"
   ]
  },
  {
   "cell_type": "code",
   "execution_count": 34,
   "metadata": {},
   "outputs": [
    {
     "data": {
      "text/plain": [
       "array([ 10.88650714,   9.59230232,  13.13916056,   8.1133664 ,\n",
       "         8.87120936,  12.96010124,   9.87983358,  10.47256919,\n",
       "         8.42426881,   9.51875374,  16.09369495,  14.24436709,\n",
       "        10.04394834,   6.87585862,   6.09795721,  11.09439009,\n",
       "        11.09260668,  11.25898901,   9.24267289,   7.82208286,\n",
       "         8.42562146,   8.35854473,   9.99834026])"
      ]
     },
     "execution_count": 34,
     "metadata": {},
     "output_type": "execute_result"
    }
   ],
   "source": [
    "dist['gaussian']['samples']['n_23']"
   ]
  },
  {
   "cell_type": "code",
   "execution_count": 38,
   "metadata": {},
   "outputs": [],
   "source": [
    "?gaus_plot.plot"
   ]
  },
  {
   "cell_type": "code",
   "execution_count": 55,
   "metadata": {},
   "outputs": [
    {
     "ename": "AttributeError",
     "evalue": "'numpy.ndarray' object has no attribute 'extend'",
     "output_type": "error",
     "traceback": [
      "\u001b[0;31m---------------------------------------------------------------------------\u001b[0m",
      "\u001b[0;31mAttributeError\u001b[0m                            Traceback (most recent call last)",
      "\u001b[0;32m<ipython-input-55-aa8c36c17c0b>\u001b[0m in \u001b[0;36m<module>\u001b[0;34m()\u001b[0m\n\u001b[0;32m----> 1\u001b[0;31m \u001b[0mx\u001b[0m \u001b[0;34m=\u001b[0m \u001b[0ms_mean\u001b[0m\u001b[0;34m.\u001b[0m\u001b[0mextend\u001b[0m\u001b[0;34m(\u001b[0m\u001b[0mn_val\u001b[0m\u001b[0;34m)\u001b[0m\u001b[0;34m\u001b[0m\u001b[0m\n\u001b[0m",
      "\u001b[0;31mAttributeError\u001b[0m: 'numpy.ndarray' object has no attribute 'extend'"
     ]
    }
   ],
   "source": [
    "x = .extend(n_val)"
   ]
  },
  {
   "cell_type": "code",
   "execution_count": 63,
   "metadata": {},
   "outputs": [
    {
     "data": {
      "text/plain": [
       "array([[  789.        ,     9.97887605],\n",
       "       [ 1783.        ,     9.96783739],\n",
       "       [ 1751.        ,     9.99588705],\n",
       "       [ 1658.        ,    10.09531761],\n",
       "       [ 1005.        ,    10.0011269 ],\n",
       "       [ 1535.        ,     9.94519475],\n",
       "       [  368.        ,    10.04247114],\n",
       "       [  536.        ,     9.99482293],\n",
       "       [  119.        ,     9.95184636],\n",
       "       [ 1030.        ,     9.99525008],\n",
       "       [ 1498.        ,    10.07191178],\n",
       "       [ 1331.        ,     9.91870887],\n",
       "       [  757.        ,    10.04562492],\n",
       "       [  759.        ,    10.04703659],\n",
       "       [ 1120.        ,     9.99543639],\n",
       "       [ 1057.        ,     9.97299236],\n",
       "       [  572.        ,    10.18224156],\n",
       "       [ 1837.        ,     9.95897635],\n",
       "       [ 1968.        ,    10.06683277],\n",
       "       [  432.        ,    10.06808458],\n",
       "       [  232.        ,     9.88021136],\n",
       "       [  865.        ,    10.01858983],\n",
       "       [ 1590.        ,    10.00210806],\n",
       "       [  764.        ,     9.94663598],\n",
       "       [ 1930.        ,    10.02933098],\n",
       "       [ 1795.        ,     9.95190535],\n",
       "       [ 1137.        ,    10.03259873],\n",
       "       [ 1781.        ,     9.96727592],\n",
       "       [  561.        ,     9.89409859],\n",
       "       [  362.        ,     9.90355066],\n",
       "       [  611.        ,    10.07030165],\n",
       "       [ 1382.        ,     9.90198494],\n",
       "       [  166.        ,    10.13542336],\n",
       "       [  694.        ,     9.90703239],\n",
       "       [  644.        ,    10.05921425],\n",
       "       [ 1583.        ,    10.02677401],\n",
       "       [  569.        ,    10.00919181],\n",
       "       [ 1806.        ,    10.0320037 ],\n",
       "       [  317.        ,    10.00860534],\n",
       "       [  987.        ,     9.99524831],\n",
       "       [ 1685.        ,     9.99097946],\n",
       "       [  444.        ,    10.00189561],\n",
       "       [ 1979.        ,     9.9835981 ],\n",
       "       [  831.        ,     9.92190656],\n",
       "       [   54.        ,    10.37044026],\n",
       "       [  564.        ,    10.10870338],\n",
       "       [ 1683.        ,    10.05476129],\n",
       "       [ 1907.        ,    10.02946387],\n",
       "       [ 1256.        ,    10.0496936 ],\n",
       "       [ 1297.        ,    10.02660264],\n",
       "       [  102.        ,    10.24515134],\n",
       "       [  479.        ,    10.03698827],\n",
       "       [   23.        ,    10.12978616],\n",
       "       [  461.        ,     9.98080628],\n",
       "       [ 1737.        ,    10.00796223],\n",
       "       [ 1591.        ,     9.98531338],\n",
       "       [ 1386.        ,     9.93297299],\n",
       "       [ 1566.        ,     9.99216099],\n",
       "       [ 1967.        ,     9.99780132],\n",
       "       [ 1127.        ,    10.04152989],\n",
       "       [  745.        ,     9.96067579],\n",
       "       [  824.        ,     9.98490501],\n",
       "       [  395.        ,     9.91312538],\n",
       "       [ 1801.        ,    10.07332355],\n",
       "       [ 1627.        ,     9.96234824],\n",
       "       [ 1933.        ,     9.92436784],\n",
       "       [  347.        ,    10.12965481],\n",
       "       [  601.        ,    10.05967728],\n",
       "       [ 1432.        ,    10.08623773],\n",
       "       [ 1740.        ,    10.01712852],\n",
       "       [  977.        ,     9.92933072],\n",
       "       [   75.        ,     9.73855358],\n",
       "       [ 1076.        ,    10.00101717],\n",
       "       [ 1059.        ,    10.02422046],\n",
       "       [ 1770.        ,    10.02534713],\n",
       "       [ 1125.        ,    10.0595915 ],\n",
       "       [  533.        ,     9.96661788],\n",
       "       [  338.        ,     9.90437774],\n",
       "       [ 1840.        ,    10.13060271],\n",
       "       [ 1506.        ,    10.04727703],\n",
       "       [  616.        ,    10.03102166],\n",
       "       [ 1549.        ,    10.02367011],\n",
       "       [ 1620.        ,    10.06620186],\n",
       "       [  523.        ,     9.94531994],\n",
       "       [  339.        ,    10.22634988],\n",
       "       [  246.        ,    10.01911154],\n",
       "       [ 1042.        ,     9.99300687],\n",
       "       [  544.        ,     9.97899655],\n",
       "       [  678.        ,    10.04709641],\n",
       "       [ 1728.        ,    10.04892882],\n",
       "       [ 1936.        ,    10.00989704],\n",
       "       [   39.        ,     9.89416901],\n",
       "       [ 1621.        ,     9.97449647],\n",
       "       [  414.        ,    10.08110845],\n",
       "       [  451.        ,     9.98935011],\n",
       "       [  833.        ,    10.04627715],\n",
       "       [ 1346.        ,    10.08416   ],\n",
       "       [  861.        ,     9.86626906],\n",
       "       [  319.        ,     9.98676583],\n",
       "       [  835.        ,    10.03315001]])"
      ]
     },
     "execution_count": 63,
     "metadata": {},
     "output_type": "execute_result"
    }
   ],
   "source": [
    "dist['gaussian']['means']"
   ]
  },
  {
   "cell_type": "code",
   "execution_count": 6,
   "metadata": {},
   "outputs": [],
   "source": []
  },
  {
   "cell_type": "code",
   "execution_count": null,
   "metadata": {},
   "outputs": [],
   "source": []
  }
 ],
 "metadata": {
  "kernelspec": {
   "display_name": "PUI2016_Python3",
   "language": "python",
   "name": "pui2016_python3"
  },
  "language_info": {
   "codemirror_mode": {
    "name": "ipython",
    "version": 3
   },
   "file_extension": ".py",
   "mimetype": "text/x-python",
   "name": "python",
   "nbconvert_exporter": "python",
   "pygments_lexer": "ipython3",
   "version": "3.5.4"
  }
 },
 "nbformat": 4,
 "nbformat_minor": 2
}
