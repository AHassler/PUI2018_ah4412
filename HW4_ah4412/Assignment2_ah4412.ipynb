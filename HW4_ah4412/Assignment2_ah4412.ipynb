{
 "cells": [
  {
   "cell_type": "markdown",
   "metadata": {},
   "source": [
    "# Assignment 2: CitiBike Data\n",
    "*Andrea Hassler (ah4412)*"
   ]
  },
  {
   "cell_type": "code",
   "execution_count": 36,
   "metadata": {},
   "outputs": [
    {
     "name": "stdout",
     "output_type": "stream",
     "text": [
      "Populating the interactive namespace from numpy and matplotlib\n"
     ]
    }
   ],
   "source": [
    "# compatibility\n",
    "from __future__  import print_function, division\n",
    "# necessary modules\n",
    "import os\n",
    "import pylab as pl\n",
    "import pandas as pd\n",
    "import numpy as np\n",
    "\n",
    "# render plots inline\n",
    "%pylab inline"
   ]
  },
  {
   "cell_type": "markdown",
   "metadata": {},
   "source": [
    "## Starting idea and formulation of null and alternative hypotheses\n",
    "**IDEA:** CitiBike is more useful for those who bike infrequently than those who bike often.  \n",
    "### Hypotheses\n",
    "Note: we assume short-term customers bike infrequently while annual subscribers bike frequently, at least in terms of biking using CitiBike.\n",
    "\n",
    "**NULL:** The proportion of trips taken by short-term customers is less than or equal to the proportion of trips taken by annual subscribers.  \n",
    "$$p_{customers} - p_{subscribers} \\leq 0$$  \n",
    "**ALTERNATIVE:** The proportion of trips taken by short-term customers is greater than the proportion of trips taken by annual subscribers.  \n",
    "$$p_{customers} - p_{subscribers} > 0$$  \n",
    "\n",
    "### Significance Threshold\n",
    "Significance level set to $\\alpha = 0.05$."
   ]
  },
  {
   "cell_type": "markdown",
   "metadata": {},
   "source": [
    "## Download file, unzip, and save to PUIdata directory\n",
    "**Examining data from September 2014**"
   ]
  },
  {
   "cell_type": "code",
   "execution_count": 2,
   "metadata": {},
   "outputs": [
    {
     "name": "stdout",
     "output_type": "stream",
     "text": [
      "  % Total    % Received % Xferd  Average Speed   Time    Time     Time  Current\n",
      "                                 Dload  Upload   Total   Spent    Left  Speed\n",
      "100 28.8M  100 28.8M    0     0  44.3M      0 --:--:-- --:--:-- --:--:-- 44.3M\n"
     ]
    }
   ],
   "source": [
    "# download zip file\n",
    "!curl -O https://s3.amazonaws.com/tripdata/201409-citibike-tripdata.zip"
   ]
  },
  {
   "cell_type": "code",
   "execution_count": 3,
   "metadata": {},
   "outputs": [],
   "source": [
    "# move zip to PUIdata directory\n",
    "!mv 201409-citibike-tripdata.zip $PUIDATA"
   ]
  },
  {
   "cell_type": "code",
   "execution_count": 4,
   "metadata": {},
   "outputs": [
    {
     "name": "stdout",
     "output_type": "stream",
     "text": [
      "Archive:  /nfshome/ah4412/PUIdata/201409-citibike-tripdata.zip\n",
      "  inflating: 201409-citibike-tripdata.csv  \n"
     ]
    }
   ],
   "source": [
    "# unzip file\n",
    "!unzip $PUIDATA/201409-citibike-tripdata.zip"
   ]
  },
  {
   "cell_type": "code",
   "execution_count": 5,
   "metadata": {},
   "outputs": [],
   "source": [
    "# move csv to PUIdata directory\n",
    "!mv 201409-citibike-tripdata.csv $PUIDATA"
   ]
  },
  {
   "cell_type": "code",
   "execution_count": 6,
   "metadata": {},
   "outputs": [
    {
     "name": "stdout",
     "output_type": "stream",
     "text": [
      "201409-citibike-tripdata.csv  nycwater.csv  times.txt\n",
      "201409-citibike-tripdata.zip  test.txt\n"
     ]
    }
   ],
   "source": [
    "# check zip file and csv were successfully moved\n",
    "!ls $PUIDATA"
   ]
  },
  {
   "cell_type": "markdown",
   "metadata": {},
   "source": [
    "## Reduct dataframe and plot distributions\n",
    "First, we read in and examine the data."
   ]
  },
  {
   "cell_type": "code",
   "execution_count": 10,
   "metadata": {},
   "outputs": [],
   "source": [
    "# read in data with pandas\n",
    "trips = pd.read_csv(os.getenv(\"PUIDATA\") + \"/\" + \"201409-citibike-tripdata.csv\")"
   ]
  },
  {
   "cell_type": "code",
   "execution_count": 11,
   "metadata": {},
   "outputs": [
    {
     "data": {
      "text/html": [
       "<div>\n",
       "<table border=\"1\" class=\"dataframe\">\n",
       "  <thead>\n",
       "    <tr style=\"text-align: right;\">\n",
       "      <th></th>\n",
       "      <th>tripduration</th>\n",
       "      <th>starttime</th>\n",
       "      <th>stoptime</th>\n",
       "      <th>start station id</th>\n",
       "      <th>start station name</th>\n",
       "      <th>start station latitude</th>\n",
       "      <th>start station longitude</th>\n",
       "      <th>end station id</th>\n",
       "      <th>end station name</th>\n",
       "      <th>end station latitude</th>\n",
       "      <th>end station longitude</th>\n",
       "      <th>bikeid</th>\n",
       "      <th>usertype</th>\n",
       "      <th>birth year</th>\n",
       "      <th>gender</th>\n",
       "    </tr>\n",
       "  </thead>\n",
       "  <tbody>\n",
       "    <tr>\n",
       "      <th>0</th>\n",
       "      <td>2828</td>\n",
       "      <td>9/1/2014 00:00:25</td>\n",
       "      <td>9/1/2014 00:47:33</td>\n",
       "      <td>386</td>\n",
       "      <td>Centre St &amp; Worth St</td>\n",
       "      <td>40.714948</td>\n",
       "      <td>-74.002345</td>\n",
       "      <td>450</td>\n",
       "      <td>W 49 St &amp; 8 Ave</td>\n",
       "      <td>40.762272</td>\n",
       "      <td>-73.987882</td>\n",
       "      <td>15941</td>\n",
       "      <td>Subscriber</td>\n",
       "      <td>1980.0</td>\n",
       "      <td>1</td>\n",
       "    </tr>\n",
       "    <tr>\n",
       "      <th>1</th>\n",
       "      <td>368</td>\n",
       "      <td>9/1/2014 00:00:28</td>\n",
       "      <td>9/1/2014 00:06:36</td>\n",
       "      <td>387</td>\n",
       "      <td>Centre St &amp; Chambers St</td>\n",
       "      <td>40.712733</td>\n",
       "      <td>-74.004607</td>\n",
       "      <td>2008</td>\n",
       "      <td>Little West St &amp; 1 Pl</td>\n",
       "      <td>40.705693</td>\n",
       "      <td>-74.016777</td>\n",
       "      <td>18962</td>\n",
       "      <td>Subscriber</td>\n",
       "      <td>1982.0</td>\n",
       "      <td>1</td>\n",
       "    </tr>\n",
       "    <tr>\n",
       "      <th>2</th>\n",
       "      <td>2201</td>\n",
       "      <td>9/1/2014 00:00:40</td>\n",
       "      <td>9/1/2014 00:37:21</td>\n",
       "      <td>386</td>\n",
       "      <td>Centre St &amp; Worth St</td>\n",
       "      <td>40.714948</td>\n",
       "      <td>-74.002345</td>\n",
       "      <td>441</td>\n",
       "      <td>E 52 St &amp; 2 Ave</td>\n",
       "      <td>40.756014</td>\n",
       "      <td>-73.967416</td>\n",
       "      <td>15982</td>\n",
       "      <td>Subscriber</td>\n",
       "      <td>1968.0</td>\n",
       "      <td>1</td>\n",
       "    </tr>\n",
       "    <tr>\n",
       "      <th>3</th>\n",
       "      <td>322</td>\n",
       "      <td>9/1/2014 00:00:41</td>\n",
       "      <td>9/1/2014 00:06:03</td>\n",
       "      <td>167</td>\n",
       "      <td>E 39 St &amp; 3 Ave</td>\n",
       "      <td>40.748901</td>\n",
       "      <td>-73.976049</td>\n",
       "      <td>528</td>\n",
       "      <td>2 Ave &amp; E 31 St</td>\n",
       "      <td>40.742909</td>\n",
       "      <td>-73.977061</td>\n",
       "      <td>19081</td>\n",
       "      <td>Subscriber</td>\n",
       "      <td>1961.0</td>\n",
       "      <td>1</td>\n",
       "    </tr>\n",
       "    <tr>\n",
       "      <th>4</th>\n",
       "      <td>1693</td>\n",
       "      <td>9/1/2014 00:00:59</td>\n",
       "      <td>9/1/2014 00:29:12</td>\n",
       "      <td>223</td>\n",
       "      <td>W 13 St &amp; 7 Ave</td>\n",
       "      <td>40.737815</td>\n",
       "      <td>-73.999947</td>\n",
       "      <td>83</td>\n",
       "      <td>Atlantic Ave &amp; Fort Greene Pl</td>\n",
       "      <td>40.683826</td>\n",
       "      <td>-73.976323</td>\n",
       "      <td>20836</td>\n",
       "      <td>Subscriber</td>\n",
       "      <td>1978.0</td>\n",
       "      <td>1</td>\n",
       "    </tr>\n",
       "    <tr>\n",
       "      <th>5</th>\n",
       "      <td>438</td>\n",
       "      <td>9/1/2014 00:01:18</td>\n",
       "      <td>9/1/2014 00:08:36</td>\n",
       "      <td>474</td>\n",
       "      <td>5 Ave &amp; E 29 St</td>\n",
       "      <td>40.745168</td>\n",
       "      <td>-73.986831</td>\n",
       "      <td>501</td>\n",
       "      <td>FDR Drive &amp; E 35 St</td>\n",
       "      <td>40.744219</td>\n",
       "      <td>-73.971212</td>\n",
       "      <td>18089</td>\n",
       "      <td>Subscriber</td>\n",
       "      <td>1985.0</td>\n",
       "      <td>1</td>\n",
       "    </tr>\n",
       "    <tr>\n",
       "      <th>6</th>\n",
       "      <td>860</td>\n",
       "      <td>9/1/2014 00:01:36</td>\n",
       "      <td>9/1/2014 00:15:56</td>\n",
       "      <td>386</td>\n",
       "      <td>Centre St &amp; Worth St</td>\n",
       "      <td>40.714948</td>\n",
       "      <td>-74.002345</td>\n",
       "      <td>2000</td>\n",
       "      <td>Front St &amp; Washington St</td>\n",
       "      <td>40.702551</td>\n",
       "      <td>-73.989402</td>\n",
       "      <td>17160</td>\n",
       "      <td>Subscriber</td>\n",
       "      <td>1990.0</td>\n",
       "      <td>1</td>\n",
       "    </tr>\n",
       "  </tbody>\n",
       "</table>\n",
       "</div>"
      ],
      "text/plain": [
       "   tripduration          starttime           stoptime  start station id  \\\n",
       "0          2828  9/1/2014 00:00:25  9/1/2014 00:47:33               386   \n",
       "1           368  9/1/2014 00:00:28  9/1/2014 00:06:36               387   \n",
       "2          2201  9/1/2014 00:00:40  9/1/2014 00:37:21               386   \n",
       "3           322  9/1/2014 00:00:41  9/1/2014 00:06:03               167   \n",
       "4          1693  9/1/2014 00:00:59  9/1/2014 00:29:12               223   \n",
       "5           438  9/1/2014 00:01:18  9/1/2014 00:08:36               474   \n",
       "6           860  9/1/2014 00:01:36  9/1/2014 00:15:56               386   \n",
       "\n",
       "        start station name  start station latitude  start station longitude  \\\n",
       "0     Centre St & Worth St               40.714948               -74.002345   \n",
       "1  Centre St & Chambers St               40.712733               -74.004607   \n",
       "2     Centre St & Worth St               40.714948               -74.002345   \n",
       "3          E 39 St & 3 Ave               40.748901               -73.976049   \n",
       "4          W 13 St & 7 Ave               40.737815               -73.999947   \n",
       "5          5 Ave & E 29 St               40.745168               -73.986831   \n",
       "6     Centre St & Worth St               40.714948               -74.002345   \n",
       "\n",
       "   end station id               end station name  end station latitude  \\\n",
       "0             450                W 49 St & 8 Ave             40.762272   \n",
       "1            2008          Little West St & 1 Pl             40.705693   \n",
       "2             441                E 52 St & 2 Ave             40.756014   \n",
       "3             528                2 Ave & E 31 St             40.742909   \n",
       "4              83  Atlantic Ave & Fort Greene Pl             40.683826   \n",
       "5             501            FDR Drive & E 35 St             40.744219   \n",
       "6            2000       Front St & Washington St             40.702551   \n",
       "\n",
       "   end station longitude  bikeid    usertype  birth year  gender  \n",
       "0             -73.987882   15941  Subscriber      1980.0       1  \n",
       "1             -74.016777   18962  Subscriber      1982.0       1  \n",
       "2             -73.967416   15982  Subscriber      1968.0       1  \n",
       "3             -73.977061   19081  Subscriber      1961.0       1  \n",
       "4             -73.976323   20836  Subscriber      1978.0       1  \n",
       "5             -73.971212   18089  Subscriber      1985.0       1  \n",
       "6             -73.989402   17160  Subscriber      1990.0       1  "
      ]
     },
     "execution_count": 11,
     "metadata": {},
     "output_type": "execute_result"
    }
   ],
   "source": [
    "# display top rows of dataframe\n",
    "trips.head(7)"
   ]
  },
  {
   "cell_type": "code",
   "execution_count": 18,
   "metadata": {},
   "outputs": [
    {
     "data": {
      "text/plain": [
       "(953887, 1)"
      ]
     },
     "execution_count": 18,
     "metadata": {},
     "output_type": "execute_result"
    }
   ],
   "source": [
    "trips.shape"
   ]
  },
  {
   "cell_type": "markdown",
   "metadata": {},
   "source": [
    "The only necessary column to answer the question is usertype, so we drop all others."
   ]
  },
  {
   "cell_type": "code",
   "execution_count": 13,
   "metadata": {},
   "outputs": [
    {
     "data": {
      "text/plain": [
       "Index(['tripduration', 'starttime', 'stoptime', 'start station id',\n",
       "       'start station name', 'start station latitude',\n",
       "       'start station longitude', 'end station id', 'end station name',\n",
       "       'end station latitude', 'end station longitude', 'bikeid', 'usertype',\n",
       "       'birth year', 'gender'],\n",
       "      dtype='object')"
      ]
     },
     "execution_count": 13,
     "metadata": {},
     "output_type": "execute_result"
    }
   ],
   "source": [
    "trips.columns"
   ]
  },
  {
   "cell_type": "code",
   "execution_count": 14,
   "metadata": {},
   "outputs": [],
   "source": [
    "trips.drop(['tripduration', 'starttime', 'stoptime', 'start station id',\n",
    "       'start station name', 'start station latitude',\n",
    "       'start station longitude', 'end station id', 'end station name',\n",
    "       'end station latitude', 'end station longitude', 'bikeid',\n",
    "       'birth year', 'gender'], axis=1, inplace=True)"
   ]
  },
  {
   "cell_type": "code",
   "execution_count": 15,
   "metadata": {},
   "outputs": [
    {
     "data": {
      "text/html": [
       "<div>\n",
       "<table border=\"1\" class=\"dataframe\">\n",
       "  <thead>\n",
       "    <tr style=\"text-align: right;\">\n",
       "      <th></th>\n",
       "      <th>usertype</th>\n",
       "    </tr>\n",
       "  </thead>\n",
       "  <tbody>\n",
       "    <tr>\n",
       "      <th>0</th>\n",
       "      <td>Subscriber</td>\n",
       "    </tr>\n",
       "    <tr>\n",
       "      <th>1</th>\n",
       "      <td>Subscriber</td>\n",
       "    </tr>\n",
       "    <tr>\n",
       "      <th>2</th>\n",
       "      <td>Subscriber</td>\n",
       "    </tr>\n",
       "    <tr>\n",
       "      <th>3</th>\n",
       "      <td>Subscriber</td>\n",
       "    </tr>\n",
       "    <tr>\n",
       "      <th>4</th>\n",
       "      <td>Subscriber</td>\n",
       "    </tr>\n",
       "    <tr>\n",
       "      <th>5</th>\n",
       "      <td>Subscriber</td>\n",
       "    </tr>\n",
       "    <tr>\n",
       "      <th>6</th>\n",
       "      <td>Subscriber</td>\n",
       "    </tr>\n",
       "  </tbody>\n",
       "</table>\n",
       "</div>"
      ],
      "text/plain": [
       "     usertype\n",
       "0  Subscriber\n",
       "1  Subscriber\n",
       "2  Subscriber\n",
       "3  Subscriber\n",
       "4  Subscriber\n",
       "5  Subscriber\n",
       "6  Subscriber"
      ]
     },
     "execution_count": 15,
     "metadata": {},
     "output_type": "execute_result"
    }
   ],
   "source": [
    "trips.head(7)"
   ]
  },
  {
   "cell_type": "markdown",
   "metadata": {},
   "source": [
    "Now we plot counts of subscribers and customers."
   ]
  },
  {
   "cell_type": "code",
   "execution_count": 51,
   "metadata": {},
   "outputs": [
    {
     "data": {
      "text/plain": [
       "Subscriber    854572\n",
       "Customer       99315\n",
       "Name: usertype, dtype: int64"
      ]
     },
     "execution_count": 51,
     "metadata": {},
     "output_type": "execute_result"
    }
   ],
   "source": [
    "trips['usertype'].value_counts()"
   ]
  },
  {
   "cell_type": "code",
   "execution_count": 94,
   "metadata": {},
   "outputs": [
    {
     "data": {
      "image/png": "[encoded data removed]",
      "text/plain": [
       "<matplotlib.figure.Figure at 0x7f39b804dcf8>"
      ]
     },
     "metadata": {},
     "output_type": "display_data"
    }
   ],
   "source": [
    "\n",
    "plot_ct = trips['usertype'].value_counts().plot(kind='barh', color=['orange', 'purple'], \n",
    "                                      edgecolor = ['black', 'black'])\n",
    "plot_ct.set_xlabel (\"Number of Rides\", fontsize=20)\n",
    "plot_ct.set_ylabel (\"User Type\", fontsize=20)\n",
    "plot_ct.yaxis.set_ticklabels(['Subscriber', 'Customer'], fontsize=16)\n",
    "plot_ct.set_title('Counts of User Type', fontsize=24)\n",
    "pl.show()"
   ]
  },
  {
   "cell_type": "markdown",
   "metadata": {},
   "source": [
    "**Figure 1:** This plot shows counts of rides taken by subscribers and customers for September 2014. There are far more rides by subscribers than by customers using CitiBike at this time, which appears in favor of the null hypothesis. Perhaps the counts are closer during other months or in later years."
   ]
  }
 ],
 "metadata": {
  "kernelspec": {
   "display_name": "PUI2016_Python3",
   "language": "python",
   "name": "pui2016_python3"
  },
  "language_info": {
   "codemirror_mode": {
    "name": "ipython",
    "version": 3
   },
   "file_extension": ".py",
   "mimetype": "text/x-python",
   "name": "python",
   "nbconvert_exporter": "python",
   "pygments_lexer": "ipython3",
   "version": "3.5.4"
  }
 },
 "nbformat": 4,
 "nbformat_minor": 2
}
